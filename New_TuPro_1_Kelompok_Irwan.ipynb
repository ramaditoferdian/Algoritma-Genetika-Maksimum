{
  "nbformat": 4,
  "nbformat_minor": 0,
  "metadata": {
    "colab": {
      "name": "New TuPro 1 Kelompok Irwan.ipynb",
      "provenance": [],
      "collapsed_sections": [],
      "include_colab_link": true
    },
    "kernelspec": {
      "name": "python3",
      "display_name": "Python 3"
    },
    "language_info": {
      "name": "python"
    }
  },
  "cells": [
    {
      "cell_type": "markdown",
      "metadata": {
        "id": "view-in-github",
        "colab_type": "text"
      },
      "source": [
        "<a href=\"https://colab.research.google.com/github/ramaditoferdian/Algoritma-Genetika-Maksimum/blob/main/New_TuPro_1_Kelompok_Irwan.ipynb\" target=\"_parent\"><img src=\"https://colab.research.google.com/assets/colab-badge.svg\" alt=\"Open In Colab\"/></a>"
      ]
    },
    {
      "cell_type": "markdown",
      "metadata": {
        "id": "Np5twNo4hJbo"
      },
      "source": [
        "DEKLARASI LIBRARY"
      ]
    },
    {
      "cell_type": "code",
      "metadata": {
        "id": "33AF2BXSf3KO"
      },
      "source": [
        "import random  #menimport library random pada python \n",
        "import math   #mengimport library math pada python \n",
        "import matplotlib.pyplot as plt   #mengimport matplotlib yang ada pada python"
      ],
      "execution_count": null,
      "outputs": []
    },
    {
      "cell_type": "code",
      "metadata": {
        "id": "iywjd9KfAEre"
      },
      "source": [
        "# set seed agar tiap running hasilnya sama\n",
        "seed = 1301194018  #menggunakan NIM dari anggota kelompok kami\n",
        "random.seed(seed)"
      ],
      "execution_count": null,
      "outputs": []
    },
    {
      "cell_type": "markdown",
      "metadata": {
        "id": "YlBsZ88ZhXms"
      },
      "source": [
        "GENERATE POPULASI\n",
        "\n",
        "adalah fungsi yang membuat kromosom sepanjang len_kromoson dan populasi sebanyak n dengan representasi biner"
      ]
    },
    {
      "cell_type": "code",
      "metadata": {
        "id": "dDE5QIdbhoY_"
      },
      "source": [
        "def generate_populasi(len_kromosom, n):\n",
        "  populasi = [] #define populasi \n",
        "\n",
        "  #looping sebanyak n populasi \n",
        "  for i in range(n):\n",
        "    kromosom = [] #define kromosom\n",
        "    #looping sebanyang panjang dari kromosom \n",
        "    for j in range(len_kromosom):\n",
        "      kromosom.append(random.randint(0,1))#merandom nilai antara 1 dan 0 yang akan digunakan untuk mengisi kromosom \n",
        "\n",
        "    populasi.append(kromosom) #populasi diisi dengan kromosom yang sudah berisi nilai biner random 1 dan 0 \n",
        "\n",
        "  return populasi #mengembalikan populasi yang sudah berisikan n kromosom \n"
      ],
      "execution_count": null,
      "outputs": []
    },
    {
      "cell_type": "markdown",
      "metadata": {
        "id": "zqj_AfKLjlYq"
      },
      "source": [
        "DEKODE KEOMOSOM\n",
        "\n",
        "adalah proses pendekosean kromosom mejadi 2 bagian x dan y\n"
      ]
    },
    {
      "cell_type": "code",
      "metadata": {
        "id": "Fo3PPSuRhoVp"
      },
      "source": [
        "def hitung_xy(kromosom,xr, yr):\n",
        "  #potong kromosom menjadi 2 bagian untuk x dan y\n",
        "  half_kromosom = len(kromosom)//2\n",
        "\n",
        "  #rumus \n",
        "\n",
        "  # menghitung bagian atas untuk x\n",
        "  atas_x = 0\n",
        "  kromosom_x = kromosom[:half_kromosom]\n",
        "  for i in range(1, half_kromosom + 1):\n",
        "    atas_x += kromosom_x[i - 1] * (2 ** -i)\n",
        "\n",
        "  # menghitung bagian atas untuk y\n",
        "  atas_y = 0\n",
        "  kromosom_y = kromosom[half_kromosom:]\n",
        "  for i in range(1, half_kromosom + 1):\n",
        "    atas_y += kromosom_y[i - 1] * (2 ** -i)\n",
        "\n",
        "  \n",
        "  # menghitung bagian bawah untuk x dan y\n",
        "  bawah = sum([2 ** -(i) for i in range (1, half_kromosom + 1)])\n",
        "\n",
        "  # memasukkan bagian atas dan bawah dari rumus kedalam RUMUS untuk mencari x dan y\n",
        "  x = xr[\"min\"] + (atas_x * (xr[\"max\"] - xr[\"min\"]) / bawah)\n",
        "  y = yr[\"min\"] + (atas_y * (yr[\"max\"] - yr[\"min\"]) / bawah)\n",
        "\n",
        "\n",
        "  return x,y"
      ],
      "execution_count": null,
      "outputs": []
    },
    {
      "cell_type": "markdown",
      "metadata": {
        "id": "uuGKc__ftNJ6"
      },
      "source": [
        "Fungsi mencari nilai fitness terbaik"
      ]
    },
    {
      "cell_type": "code",
      "metadata": {
        "id": "ZewiGdVpg_Kf"
      },
      "source": [
        "def fitness(x, y):\n",
        "\n",
        "  # mengembalikkan nilai dari fungsi\n",
        "  return f(x, y)"
      ],
      "execution_count": null,
      "outputs": []
    },
    {
      "cell_type": "markdown",
      "metadata": {
        "id": "--MADYS_tviK"
      },
      "source": [
        "Menseleksi 2 buah kromosom dan menjadikannya sebagai parent"
      ]
    },
    {
      "cell_type": "code",
      "metadata": {
        "id": "CXWZ-5hD0f9k"
      },
      "source": [
        "def select_2parent(population, fitness_population):\n",
        "  \n",
        "  # Menggunakan Roulette Wheel Selection\n",
        "\n",
        "  temp = 0\n",
        "\n",
        "  for krom in range(len(population)):\n",
        "    temp += fitness_population[krom]\n",
        "\n",
        "  rng = random.random()\n",
        "\n",
        "  krom = 0\n",
        "  while rng > 0 :\n",
        "    rng -= fitness_population[krom] / temp\n",
        "    krom += 1\n",
        "  \n",
        "  return krom - 1\n"
      ],
      "execution_count": null,
      "outputs": []
    },
    {
      "cell_type": "code",
      "metadata": {
        "id": "9lQOQR17tt3d"
      },
      "source": [
        "def parent_selection(population):\n",
        "\n",
        "  n = len(population)\n",
        "\n",
        "\n",
        "  fitness_population = []\n",
        "  for krom in range(n):\n",
        "    x, y = hitung_xy(population[krom], xr, yr)\n",
        "    fitness_population.append(fitness(x, y))\n",
        "\n",
        "\n",
        "\n",
        "  # Normalisasi fitness value\n",
        "  min_ = min(fitness_population)\n",
        "  max_ = max(fitness_population)\n",
        "\n",
        "  for i in range(n):\n",
        "    fitness_population[i] = (fitness_population[i] - min_) / (max_ - min_)\n",
        "\n",
        "  \n",
        "  # Menghitung total dari semua Fitness Population\n",
        "  total_fitness = sum(fitness_population)\n",
        "\n",
        "\n",
        "  # Melakukan Roulette Wheel untuk mendapatkan 2 parent\n",
        "\n",
        "  parent = []\n",
        "\n",
        "  while len(parent) != 2:\n",
        "    krom = select_2parent(population, fitness_population)\n",
        "    parent.append(population[krom])\n",
        "\n",
        "  return parent\n",
        "\n",
        "\n"
      ],
      "execution_count": null,
      "outputs": []
    },
    {
      "cell_type": "code",
      "metadata": {
        "id": "Wv6py8GD3yH0"
      },
      "source": [
        "def crossover1point(parent):\n",
        "  \n",
        "  len_krom = len(parent[0])\n",
        "\n",
        "  titik_potong = random.randint(0, len_krom)\n",
        "\n",
        "\n",
        "  child = [0, 0]\n",
        "  child[0] = parent[0][:titik_potong] + parent[1][titik_potong:]\n",
        "  child[1] = parent[1][:titik_potong] + parent[0][titik_potong:]\n",
        "\n",
        "  return child\n"
      ],
      "execution_count": null,
      "outputs": []
    },
    {
      "cell_type": "code",
      "metadata": {
        "id": "M1Ok7GmX4sIb"
      },
      "source": [
        "def mutasi_krom(child, prob):\n",
        "\n",
        "  len_krom = len(anak[0])\n",
        "\n",
        "  for i in range(2):\n",
        "    for j in range(len_krom):\n",
        "      if random.random() <= prob:\n",
        "        child[i][j] = [0, 1][not child[i][j]]\n",
        "\n",
        "  return child\n",
        "\n",
        "\n"
      ],
      "execution_count": null,
      "outputs": []
    },
    {
      "cell_type": "code",
      "metadata": {
        "id": "S5OJHst65LNE"
      },
      "source": [
        "#fungsi\n",
        "def f(x, y):\n",
        "  return ((math.cos(x**2) * math.sin(y**2)) + (x+y))\n",
        "\n",
        "# x, y max dan min\n",
        "xr = {\"min\" : -1, \"max\" : 2} # ini untuk interval sesuai SOAL\n",
        "yr = {\"min\" : -1, \"max\" : 1}"
      ],
      "execution_count": null,
      "outputs": []
    },
    {
      "cell_type": "code",
      "metadata": {
        "id": "56YnNfAQ5O7x"
      },
      "source": [
        "# parameter\n",
        "prob_crossover  = 0.6\n",
        "prob_mutasi     = 0.05\n",
        "n_pop           = 50\n",
        "len_krom        = 10\n",
        "n_elitisme      = 4"
      ],
      "execution_count": null,
      "outputs": []
    },
    {
      "cell_type": "code",
      "metadata": {
        "colab": {
          "base_uri": "https://localhost:8080/"
        },
        "id": "YC5d9t-W5RK5",
        "outputId": "a7655ec5-12ac-4d5d-b140-b67d8014edf2"
      },
      "source": [
        "generation = 50\n",
        "generasi_terbaik = []\n",
        "populasi = generate_populasi(len_krom, n_pop)\n",
        "\n",
        "print(f\"Prob. Crossover   : {prob_crossover}\")\n",
        "print(f\"Prob. Mutasi      : {prob_mutasi}\")\n",
        "print(f\"Banyak Populasi   : {n_pop}\")\n",
        "print(f\"Panjang Kromosom  : {len_krom}\")\n",
        "print(f\"Banyak Elitisme   : {n_elitisme}\")\n",
        "print(f\"Banyak Generasi   : {generation}\")\n",
        "\n",
        "print()\n",
        "\n",
        "for i in range(generation):\n",
        "\n",
        "  fitness_populasi = []\n",
        "  for kromosom in populasi:\n",
        "    x,y = hitung_xy(kromosom, xr, yr)\n",
        "    fitness_populasi.append(fitness(x, y))\n",
        "\n",
        "\n",
        "  generasi_terbaik.append(max(fitness_populasi))\n",
        "\n",
        "\n",
        "  sorted_populasi = [m for _, m in sorted(zip(fitness_populasi, populasi), reverse=True)]\n",
        "\n",
        "\n",
        "  populasi_baru = sorted_populasi[:n_elitisme]\n",
        "\n",
        "\n",
        "  if (i + 1) % 5 == 0:\n",
        "    print(f\"Generasi ke-{i + 1}, Best : {generasi_terbaik[i]}\")\n",
        "\n",
        "\n",
        "  while len(populasi_baru) != n_pop:\n",
        "\n",
        "    orang_tua = parent_selection(populasi)\n",
        "\n",
        "    if random.random() < prob_crossover:\n",
        "      anak = mutasi_krom(crossover1point(orang_tua), prob_mutasi)\n",
        "    else:\n",
        "      anak = orang_tua + []\n",
        "\n",
        "    populasi_baru = populasi_baru + anak\n",
        "\n",
        "  populasi = populasi_baru + []\n",
        "\n"
      ],
      "execution_count": null,
      "outputs": [
        {
          "output_type": "stream",
          "text": [
            "Prob. Crossover   : 0.6\n",
            "Prob. Mutasi      : 0.05\n",
            "Banyak Populasi   : 50\n",
            "Panjang Kromosom  : 10\n",
            "Banyak Elitisme   : 4\n",
            "Banyak Generasi   : 50\n",
            "\n",
            "Generasi ke-5, Best : 2.421329580953847\n",
            "Generasi ke-10, Best : 2.4591041004131284\n",
            "Generasi ke-15, Best : 2.4804368980667126\n",
            "Generasi ke-20, Best : 2.4804368980667126\n",
            "Generasi ke-25, Best : 2.4804368980667126\n",
            "Generasi ke-30, Best : 2.4804368980667126\n",
            "Generasi ke-35, Best : 2.4804368980667126\n",
            "Generasi ke-40, Best : 2.4804368980667126\n",
            "Generasi ke-45, Best : 2.4804368980667126\n",
            "Generasi ke-50, Best : 2.4804368980667126\n"
          ],
          "name": "stdout"
        }
      ]
    },
    {
      "cell_type": "code",
      "metadata": {
        "colab": {
          "base_uri": "https://localhost:8080/",
          "height": 398
        },
        "id": "zrrDcsCDBKQb",
        "outputId": "8bfe820e-c22f-4df9-e90e-bedde0e2bb2f"
      },
      "source": [
        "# lihat pertumbuhan fitness terbaik\n",
        "plt.figure(figsize=(15, 5))\n",
        "\n",
        "plt.plot(range(1, generation + 1), generasi_terbaik)\n",
        "plt.title(\"Perubahan fitness per-generasi\", loc='center', pad=40, fontsize=20, color='blue')\n",
        "plt.xlabel(\"Generasi\", fontsize = 20)\n",
        "plt.ylabel(\"Fitness Terbaik\", fontsize=20)\n",
        "plt.grid(linestyle=\"-\", linewidth=0.5, color='.25')\n",
        "plt.legend(['Biru'], loc='upper left')\n",
        "plt.show()\n",
        "plt.show()"
      ],
      "execution_count": null,
      "outputs": [
        {
          "output_type": "display_data",
          "data": {
            "image/png": "[encoded data removed]",
            "text/plain": [
              "<Figure size 1080x360 with 1 Axes>"
            ]
          },
          "metadata": {
            "tags": [],
            "needs_background": "light"
          }
        }
      ]
    },
    {
      "cell_type": "code",
      "metadata": {
        "id": "PW8PFejWBNeS"
      },
      "source": [
        ""
      ],
      "execution_count": null,
      "outputs": []
    }
  ]
}